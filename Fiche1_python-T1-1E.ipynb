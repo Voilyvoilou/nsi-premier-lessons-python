{
 "cells": [
  {
   "cell_type": "markdown",
   "id": "12bc8e7d",
   "metadata": {},
   "source": [
    "# NSI - Python (Trimestre 1) [Louise Pirou] \n",
    "\n",
    "## Les p-uplets nommés \n",
    "Les *p-uplets nommés* ont été introduits dans le programme de première de NSI principalement pour faciliter le traitement de données et la lisibilité d’un programme. Le p-uplet nommé consiste à accéder à un champ (un des objets du p-uplet) non par sa position mais par son nom. (appelé clé)\n",
    "\n",
    "Les p-uplets nommés **sont normalement immutables**"
   ]
  },
  {
   "cell_type": "code",
   "execution_count": 36,
   "id": "839ce6a0",
   "metadata": {},
   "outputs": [
    {
     "data": {
      "text/plain": [
       "47"
      ]
     },
     "execution_count": 36,
     "metadata": {},
     "output_type": "execute_result"
    }
   ],
   "source": [
    "tuple = {\"nom\": \"X\", \n",
    "         \"́prenom\": \"Monsieur\", \n",
    "         \"age\": 47}\n",
    "tuple[\"age\"]"
   ]
  },
  {
   "cell_type": "markdown",
   "id": "da941020",
   "metadata": {},
   "source": [
    "## Les dictionnaires \n",
    "Un dictionnaire est une collection d’éléments identifiés par une clef à laquelle correspond une valeur pour l’élément.\n",
    "Une différence avec les *p-uplets nommés*, est **la possibilité de les modifier après leur création : ce sont des\n",
    "objets mutables.**"
   ]
  },
  {
   "cell_type": "code",
   "execution_count": 8,
   "id": "67aeef65",
   "metadata": {},
   "outputs": [
    {
     "data": {
      "text/plain": [
       "{'henri': (4, 'roi'), 'louis': (16, 'roi'), 'élisabeth': (2, 'reine')}"
      ]
     },
     "execution_count": 8,
     "metadata": {},
     "output_type": "execute_result"
    }
   ],
   "source": [
    "dico = {'henri':(4,'roi') , 'louis':(16, 'roi')}\n",
    "dico['élisabeth'] = (1,'reine')\n",
    "dico['élisabeth'] = (2,'reine')\n",
    "dico"
   ]
  },
  {
   "cell_type": "markdown",
   "id": "d1e6491b",
   "metadata": {},
   "source": [
    "iteration sur un dictionnaire"
   ]
  },
  {
   "cell_type": "code",
   "execution_count": 16,
   "id": "865ab5fc",
   "metadata": {},
   "outputs": [
    {
     "name": "stdout",
     "output_type": "stream",
     "text": [
      "La valeur=(4, 'roi') est associée à la clef=henri\n",
      "La valeur=(16, 'roi') est associée à la clef=louis\n",
      "La valeur=(2, 'reine') est associée à la clef=élisabeth\n"
     ]
    }
   ],
   "source": [
    "for clef, valeur in dico.items():\n",
    "    print(\"La valeur={0} est associée à la clef={1}\".format(valeur,clef))"
   ]
  },
  {
   "cell_type": "markdown",
   "id": "664b8302",
   "metadata": {},
   "source": [
    "Pour itérer sur les clefs du dictionnaire :"
   ]
  },
  {
   "cell_type": "code",
   "execution_count": 17,
   "id": "a3339e59",
   "metadata": {},
   "outputs": [
    {
     "name": "stdout",
     "output_type": "stream",
     "text": [
      "henri\n",
      "louis\n",
      "élisabeth\n"
     ]
    }
   ],
   "source": [
    "for clef in dico.keys():\n",
    "    print(clef)"
   ]
  },
  {
   "cell_type": "markdown",
   "id": "1b3377fc",
   "metadata": {},
   "source": [
    "Pour itérer seulement sur les valeurs du dictionnaire :"
   ]
  },
  {
   "cell_type": "code",
   "execution_count": 18,
   "id": "ae48c957",
   "metadata": {},
   "outputs": [
    {
     "name": "stdout",
     "output_type": "stream",
     "text": [
      "(4, 'roi')\n",
      "(16, 'roi')\n",
      "(2, 'reine')\n"
     ]
    }
   ],
   "source": [
    "for valeur in dico.values():\n",
    "    print(valeur)"
   ]
  },
  {
   "cell_type": "markdown",
   "id": "42339456",
   "metadata": {},
   "source": [
    "## Les fichiers"
   ]
  },
  {
   "cell_type": "code",
   "execution_count": 43,
   "id": "f4662eba",
   "metadata": {},
   "outputs": [
    {
     "data": {
      "text/plain": [
       "{'pays': 'Afghanistan',\n",
       " 'initial_2': 'AF',\n",
       " 'initial_3': 'AFG',\n",
       " 'code_pays': '004',\n",
       " 'code_iso': 'ISO 3166-2:AF',\n",
       " 'region': 'Asia',\n",
       " 'sous_region': 'Southern Asia'}"
      ]
     },
     "execution_count": 43,
     "metadata": {},
     "output_type": "execute_result"
    }
   ],
   "source": [
    "def extrait_pays(chemin_csv):\n",
    "    \"\"\"\n",
    "    renvoie les données du csv comme une liste de p-uplets nommés (un par élève)\n",
    "    \"\"\"\n",
    "    # ouvrir un fichier en mode lecture (\"r\" pour write)\n",
    "    # open renvoie un objet_fichier\n",
    "    data = open(chemin_csv, \"r\")\n",
    "\n",
    "    pays = [] # on crée la liste qui sera remplie et renvoyée\n",
    "\n",
    "    # Pour lire dans le fichier, la première manière consiste à lire une ligne avec readline()\n",
    "    entete = data.readline() # la première ligne contient les decripteurs du csv\n",
    "    #print(entete)\n",
    "\n",
    "    # la première ligne ayant déjà été 'consommée' précédemment.\n",
    "    for ligne in data:\n",
    "        # pré-traitement : la ligne concernant l'élève est 'nettoyée' avec strip(),\n",
    "        # puis avec split() découpée en morceaux qui sont stockés dans une liste.\n",
    "        champs_pays = ligne.strip().split(',')\n",
    "\n",
    "        # On renseigne un p-uplet nommé pour chaque élève\n",
    "        tuple_pays = {'pays'       : champs_pays[0],\\\n",
    "                      'initial_2'  : champs_pays[1],\\\n",
    "                      'initial_3'  : champs_pays[2],\\\n",
    "                      'code_pays'  : champs_pays[3],\\\n",
    "                      'code_iso'   : champs_pays[4],\\\n",
    "                      'region'     : champs_pays[5],\\\n",
    "                      'sous_region': champs_pays[6]}\n",
    "        pays.append(tuple_pays) # ce p-uplet est ajouté à la liste\n",
    "\n",
    "    data.close() # Ne pas oublier de fermer le fichier une fois la lecture achevée\n",
    "    return pays # Le Tableau construit est renvoyé.\n",
    "\n",
    "extrait_pays(\"./country_full.csv\")[0]"
   ]
  },
  {
   "cell_type": "code",
   "execution_count": null,
   "id": "2a5ea9df",
   "metadata": {},
   "outputs": [],
   "source": []
  }
 ],
 "metadata": {
  "kernelspec": {
   "display_name": "Python 3 (ipykernel)",
   "language": "python",
   "name": "python3"
  },
  "language_info": {
   "codemirror_mode": {
    "name": "ipython",
    "version": 3
   },
   "file_extension": ".py",
   "mimetype": "text/x-python",
   "name": "python",
   "nbconvert_exporter": "python",
   "pygments_lexer": "ipython3",
   "version": "3.9.12"
  }
 },
 "nbformat": 4,
 "nbformat_minor": 5
}
