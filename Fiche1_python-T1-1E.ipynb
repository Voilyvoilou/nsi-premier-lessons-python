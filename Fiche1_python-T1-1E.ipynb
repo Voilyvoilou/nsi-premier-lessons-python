{
 "cells": [
  {
   "cell_type": "markdown",
   "id": "12bc8e7d",
   "metadata": {},
   "source": [
    "# NSI - Python\n",
    "\n",
    "https://eduscol.education.fr/2068/programmes-et-ressources-en-numerique-et-sciences-informatiques-voie-g\n",
    "\n",
    "## Les p-uplets nommés \n",
    "Les *p-uplets nommés* ont été introduits dans le programme de première de NSI principalement pour faciliter le traitement de données et la lisibilité d’un programme. Le p-uplet nommé consiste à accéder à un champ (un des objets du p-uplet) non par sa position mais par son nom. (appelé clé)\n",
    "\n",
    "Les p-uplets nommés **sont normalement immutables**"
   ]
  },
  {
   "cell_type": "code",
   "execution_count": 26,
   "id": "839ce6a0",
   "metadata": {},
   "outputs": [
    {
     "data": {
      "text/plain": [
       "47"
      ]
     },
     "execution_count": 26,
     "metadata": {},
     "output_type": "execute_result"
    }
   ],
   "source": [
    "tuple = {\"nom\": \"X\", \n",
    "         \"́prenom\": \"Monsieur\", \n",
    "         \"age\": 47}\n",
    "tuple[\"age\"]"
   ]
  },
  {
   "cell_type": "markdown",
   "id": "da941020",
   "metadata": {},
   "source": [
    "## Les dictionnaires \n",
    "Un dictionnaire est une collection d’éléments identifiés par une clef à laquelle correspond une valeur pour l’élément.\n",
    "Une différence avec les *p-uplets nommés*, est **la possibilité de les modifier après leur création : ce sont des\n",
    "objets mutables.**"
   ]
  },
  {
   "cell_type": "code",
   "execution_count": 27,
   "id": "67aeef65",
   "metadata": {},
   "outputs": [
    {
     "data": {
      "text/plain": [
       "{'henri': (4, 'roi'), 'louis': (16, 'roi'), 'élisabeth': (2, 'reine')}"
      ]
     },
     "execution_count": 27,
     "metadata": {},
     "output_type": "execute_result"
    }
   ],
   "source": [
    "dico = {'henri':(4,'roi') , 'louis':(16, 'roi')}\n",
    "dico['élisabeth'] = (1,'reine')\n",
    "dico['élisabeth'] = (2,'reine')\n",
    "dico"
   ]
  },
  {
   "cell_type": "markdown",
   "id": "d1e6491b",
   "metadata": {},
   "source": [
    "iteration sur un dictionnaire"
   ]
  },
  {
   "cell_type": "code",
   "execution_count": 28,
   "id": "865ab5fc",
   "metadata": {},
   "outputs": [
    {
     "name": "stdout",
     "output_type": "stream",
     "text": [
      "La valeur=(4, 'roi') est associée à la clef=henri\n",
      "La valeur=(16, 'roi') est associée à la clef=louis\n",
      "La valeur=(2, 'reine') est associée à la clef=élisabeth\n"
     ]
    }
   ],
   "source": [
    "for clef, valeur in dico.items():\n",
    "    print(\"La valeur={0} est associée à la clef={1}\".format(valeur,clef))"
   ]
  },
  {
   "cell_type": "markdown",
   "id": "664b8302",
   "metadata": {},
   "source": [
    "Pour itérer sur les clefs du dictionnaire :"
   ]
  },
  {
   "cell_type": "code",
   "execution_count": 29,
   "id": "a3339e59",
   "metadata": {},
   "outputs": [
    {
     "name": "stdout",
     "output_type": "stream",
     "text": [
      "henri\n",
      "louis\n",
      "élisabeth\n"
     ]
    }
   ],
   "source": [
    "for clef in dico.keys():\n",
    "    print(clef)"
   ]
  },
  {
   "cell_type": "markdown",
   "id": "1b3377fc",
   "metadata": {},
   "source": [
    "Pour itérer seulement sur les valeurs du dictionnaire :"
   ]
  },
  {
   "cell_type": "code",
   "execution_count": 30,
   "id": "ae48c957",
   "metadata": {},
   "outputs": [
    {
     "name": "stdout",
     "output_type": "stream",
     "text": [
      "(4, 'roi')\n",
      "(16, 'roi')\n",
      "(2, 'reine')\n"
     ]
    }
   ],
   "source": [
    "for valeur in dico.values():\n",
    "    print(valeur)"
   ]
  },
  {
   "cell_type": "markdown",
   "id": "42339456",
   "metadata": {},
   "source": [
    "## Les fichiers"
   ]
  },
  {
   "cell_type": "code",
   "execution_count": 19,
   "id": "f4662eba",
   "metadata": {},
   "outputs": [
    {
     "data": {
      "text/plain": [
       "{'pays': 'Afghanistan',\n",
       " 'initial_2': 'AF',\n",
       " 'initial_3': 'AFG',\n",
       " 'code_pays': '004',\n",
       " 'code_iso': 'ISO 3166-2:AF',\n",
       " 'region': 'Asia',\n",
       " 'sous_region': 'Southern Asia'}"
      ]
     },
     "execution_count": 19,
     "metadata": {},
     "output_type": "execute_result"
    }
   ],
   "source": [
    "def extrait_pays(chemin_csv):\n",
    "    \"\"\"\n",
    "    renvoie les données du csv comme une liste de p-uplets nommés (un par élève)\n",
    "    \"\"\"\n",
    "    # ouvrir un fichier en mode lecture (\"r\" pour write)\n",
    "    # open renvoie un objet_fichier\n",
    "    data = open(chemin_csv, \"r\")\n",
    "\n",
    "    pays = [] # on crée la liste qui sera remplie et renvoyée\n",
    "\n",
    "    # Pour lire dans le fichier, la première manière consiste à lire une ligne avec readline()\n",
    "    entete = data.readline() # la première ligne contient les decripteurs du csv\n",
    "    #print(entete)\n",
    "\n",
    "    # la première ligne ayant déjà été 'consommée' précédemment.\n",
    "    for ligne in data:\n",
    "        # pré-traitement : la ligne concernant l'élève est 'nettoyée' avec strip(),\n",
    "        # puis avec split() découpée en morceaux qui sont stockés dans une liste.\n",
    "        champs_pays = ligne.strip().split(',')\n",
    "\n",
    "        # On renseigne un p-uplet nommé pour chaque élève\n",
    "        tuple_pays = {'pays'       : champs_pays[0],\\\n",
    "                      'initial_2'  : champs_pays[1],\\\n",
    "                      'initial_3'  : champs_pays[2],\\\n",
    "                      'code_pays'  : champs_pays[3],\\\n",
    "                      'code_iso'   : champs_pays[4],\\\n",
    "                      'region'     : champs_pays[5],\\\n",
    "                      'sous_region': champs_pays[6]}\n",
    "        pays.append(tuple_pays) # ce p-uplet est ajouté à la liste\n",
    "\n",
    "    data.close() # Ne pas oublier de fermer le fichier une fois la lecture achevée\n",
    "    return pays # Le Tableau construit est renvoyé.\n",
    "\n",
    "extrait_pays(\"./country_full.csv\")[0]"
   ]
  },
  {
   "cell_type": "markdown",
   "id": "2a5ea9df",
   "metadata": {},
   "source": [
    "## Algorithm de Recherche \n",
    "\n",
    "Le rôle des algorithmes de recherche est de déterminer si une donnée est présente et, le cas échéant, d’en indiquer sa position, pour effectuer des traitements annexes."
   ]
  },
  {
   "cell_type": "code",
   "execution_count": 20,
   "id": "e0c6914c",
   "metadata": {},
   "outputs": [],
   "source": [
    "pays = extrait_pays(\"./country_full.csv\")\n",
    "\n",
    "search = [ \"Andorra\", \"France\", \"Martinique\", \"Samoa\", \"Tunisia\", \"Zimbabwe\"] "
   ]
  },
  {
   "cell_type": "markdown",
   "id": "fd6c45e3",
   "metadata": {},
   "source": [
    "### Recherche *Naive*\n",
    "Une première façon de rechercher une valeur dans un tableau est d’effectuer une recherche naïve à l’aide d’un parcours de tableau"
   ]
  },
  {
   "cell_type": "code",
   "execution_count": 21,
   "id": "6a6cc1d8",
   "metadata": {},
   "outputs": [],
   "source": [
    "def recherche_naive_pays_par_noms(tab, val):\n",
    "    \n",
    "    for i in range(len(tab)):\n",
    "        if tab[i]['pays'] == val:\n",
    "            # on renvoie un entier positif ou nul en cas de succés, qui correspond à une position de la valeur recherchée \n",
    "            return i\n",
    "    # on renvoie un -1 en cas d’échec.\n",
    "    return -1"
   ]
  },
  {
   "cell_type": "markdown",
   "id": "b0fac7a4",
   "metadata": {},
   "source": [
    "la complexité est dite **linéaire** `k=n` (c-a-d le temps de recherche double lorsque la longueur de la liste double)\n"
   ]
  },
  {
   "cell_type": "code",
   "execution_count": 23,
   "id": "c1ddbdf2",
   "metadata": {},
   "outputs": [
    {
     "name": "stdout",
     "output_type": "stream",
     "text": [
      "Result      : ['Andorra', 'France', 'Martinique', 'Samoa', 'Tunisia', 'Zimbabwe']\n",
      "Elapsed time: [6.4, 20.0, 22.6, 24.7, 28.9, 43.7] µs\n"
     ]
    }
   ],
   "source": [
    "# import un chronometre \n",
    "import timeit\n",
    "\n",
    "elapsed_time_naive = []\n",
    "\n",
    "for i in range(len(search)):\n",
    "\n",
    "    # record start time\n",
    "    t_0 = timeit.default_timer()\n",
    "    # call function\n",
    "    res = recherche_naive_pays_par_noms( pays ,search[i])\n",
    "    # record end time\n",
    "    t_1 = timeit.default_timer()\n",
    "\n",
    "    if res >= 0:\n",
    "        # calculate elapsed time and print\n",
    "        elapsed_time_naive.append(round((t_1 - t_0) * 10 ** 6, 3))\n",
    "\n",
    "print(f\"Result      : {search}\")\n",
    "print(f\"Elapsed time: {elapsed_time_naive} µs\")"
   ]
  },
  {
   "cell_type": "markdown",
   "id": "96edc2cc",
   "metadata": {},
   "source": [
    "### Recherche *Dichotomique* (*binary search* in english)\n",
    "L’idée centrale de cette approche repose sur l’idée de réduire de moitié l’espace de recherche à chaque étape.\n",
    "\n",
    "On regarde la valeur du milieu et si ce n’est pas celle recherchée, on sait qu’il faut continuer de chercher dans la première moitié ou dans la seconde. \n",
    "\n",
    "En tenant compte du caractère trié du tableau, il est possible d’améliorer l’efficacité d’une telle recherche de façon conséquente."
   ]
  },
  {
   "cell_type": "code",
   "execution_count": 24,
   "id": "a4769100",
   "metadata": {},
   "outputs": [],
   "source": [
    "def recherche_dichotomique_pays_par_noms(tab, val):\n",
    "    \n",
    "    gauche = 0\n",
    "    droite = len(tab) - 1\n",
    "    \n",
    "    # print(f\"Find = {val} ?\")\n",
    "    while gauche <= droite:\n",
    "        \n",
    "\n",
    "        milieu = (gauche + droite) // 2\n",
    "        \n",
    "        #print(f\"-> {tab[gauche]['pays']} < {tab[milieu]['pays']} < {tab[droite]['pays']}\")\n",
    "\n",
    "        midpays = tab[milieu]['pays']\n",
    "        \n",
    "        if midpays > val:\n",
    "            # on cherche entre gauche et milieu - 1\n",
    "            droite = milieu - 1\n",
    "        elif midpays < val:\n",
    "            # on a tab[milieu] < val\n",
    "            # on cherche entre milieu + 1 et droite\n",
    "            gauche = milieu + 1\n",
    "        else: \n",
    "            # on a trouvé le pays donc le nom ,\n",
    "            # à la position milieu\n",
    "            return milieu\n",
    "\n",
    "    # on est sorti de la boucle sans trouver val\n",
    "    return -1"
   ]
  },
  {
   "cell_type": "markdown",
   "id": "e12a5220",
   "metadata": {},
   "source": [
    "La complexité (k) de la recherche dichotomique est **de l’ordre du logarithme** `Θ(log2 n)`\n",
    "(c-a-d diminue d’au moins une unité à chaque étape, le nombre d’itérations est majoré par la taille (n) initiale du tableau)\n"
   ]
  },
  {
   "cell_type": "code",
   "execution_count": 28,
   "id": "fd300422",
   "metadata": {},
   "outputs": [
    {
     "name": "stdout",
     "output_type": "stream",
     "text": [
      "Result      : ['Andorra', 'France', 'Martinique', 'Samoa', 'Tunisia', 'Zimbabwe']\n",
      "Elapsed time: [9.2, 4.3, 7.1, 5.8, 5.3, 5.0] µs\n"
     ]
    }
   ],
   "source": [
    "# import un chronometre \n",
    "import timeit\n",
    "\n",
    "elapsed_time_dicotomie = []\n",
    "\n",
    "for i in range(len(search)):\n",
    "\n",
    "    # record start time\n",
    "    t_0 = timeit.default_timer()\n",
    "    # call function\n",
    "    res = recherche_dichotomique_pays_par_noms( pays ,search[i])\n",
    "    # record end time\n",
    "    t_1 = timeit.default_timer()\n",
    "\n",
    "    if res >= 0:\n",
    "        # calculate elapsed time and print\n",
    "        elapsed_time_dicotomie.append(round((t_1 - t_0) * 10 ** 6, 3))\n",
    "\n",
    "print(f\"Result      : {search}\")\n",
    "print(f\"Elapsed time: {elapsed_time_dicotomie} µs\")"
   ]
  },
  {
   "cell_type": "markdown",
   "id": "eaae19a3",
   "metadata": {},
   "source": [
    "### Astuce : Visualise la complexité \n",
    "Mesure la complexité en comparant la temps de la recherche"
   ]
  },
  {
   "cell_type": "code",
   "execution_count": 29,
   "id": "89f4ba3c",
   "metadata": {},
   "outputs": [
    {
     "data": {
      "image/png": "[encoded data removed]",
      "text/plain": [
       "<Figure size 640x480 with 1 Axes>"
      ]
     },
     "metadata": {},
     "output_type": "display_data"
    }
   ],
   "source": [
    "import matplotlib.pyplot as plt\n",
    "import numpy as np\n",
    "\n",
    "# Defini le quadrillage\n",
    "fig = plt.figure()\n",
    "ax = fig.add_subplot(1, 1, 1)\n",
    "ax.xaxis.set_ticks_position('bottom')\n",
    "ax.yaxis.set_ticks_position('left')\n",
    "\n",
    "# Dessin les courbes\n",
    "plt.plot(search,elapsed_time_naive, 'r', label='Recherche Naive')\n",
    "plt.plot(search,elapsed_time_dicotomie, 'b', label='Recherche Dicotomique')\n",
    "\n",
    "plt.legend(loc='upper left')\n",
    "\n",
    "# Affiche la figure\n",
    "plt.show()\n"
   ]
  },
  {
   "cell_type": "markdown",
   "id": "40817300",
   "metadata": {},
   "source": [
    "## Algorithm de Tri "
   ]
  },
  {
   "cell_type": "markdown",
   "id": "129e34f2",
   "metadata": {},
   "source": [
    "### Tri par Inversion (in English *Invertion Sort*)\n",
    "\n",
    "Le tri par insertion considère chaque élément du tableau et l'insère à la bonne place parmi les éléments déjà triés. \n",
    "\n",
    "Ainsi, au moment où on considère un élément, les éléments qui le précèdent sont déjà triés, tandis que les éléments qui le suivent ne sont pas encore triés.\n",
    "\n",
    "![images](./images/Insertion-sort-example-300px.gif)"
   ]
  },
  {
   "cell_type": "code",
   "execution_count": 17,
   "id": "4626c1aa",
   "metadata": {},
   "outputs": [],
   "source": [
    "def tri_nombre(liste):\n",
    "\n",
    "    for i in range (1, len(liste)) :\n",
    "        \n",
    "        # mémoriser liste[i] dans Val\n",
    "        val = liste[i]\n",
    "        \n",
    "        # Décaler les éléments Liste[0]..Liste[i-1] qui sont plus grands que Val, en partant de Liste[i-1]\n",
    "        j = i\n",
    "        while j > 0 and val < liste[j-1] :\n",
    "            liste[j]=liste[j-1]\n",
    "            j=j-1\n",
    "        \n",
    "        # Placer Val dans le \"trou\" laissé par le décalage\n",
    "        liste[j]=val\n",
    "\n",
    "    return(liste)"
   ]
  },
  {
   "cell_type": "markdown",
   "id": "f4b8bd66",
   "metadata": {},
   "source": [
    "**La complexité du tri par insertion est Θ(n2)** dans le pire cas et en moyenne, et linéaire dans le meilleur cas."
   ]
  },
  {
   "cell_type": "code",
   "execution_count": 15,
   "id": "f03629fa",
   "metadata": {},
   "outputs": [
    {
     "data": {
      "text/plain": [
       "[1, 2, 3, 4, 5, 6, 7, 8]"
      ]
     },
     "execution_count": 15,
     "metadata": {},
     "output_type": "execute_result"
    }
   ],
   "source": [
    "test = [6, 5, 3, 1, 8, 7, 2, 4]\n",
    "tri_nombre(test)"
   ]
  }
 ],
 "metadata": {
  "kernelspec": {
   "display_name": "Python 3.11.0 64-bit",
   "language": "python",
   "name": "python3"
  },
  "language_info": {
   "codemirror_mode": {
    "name": "ipython",
    "version": 3
   },
   "file_extension": ".py",
   "mimetype": "text/x-python",
   "name": "python",
   "nbconvert_exporter": "python",
   "pygments_lexer": "ipython3",
   "version": "3.11.0"
  },
  "vscode": {
   "interpreter": {
    "hash": "c261aea317cc0286b3b3261fbba9abdec21eaa57589985bb7a274bf54d6cc0a7"
   }
  }
 },
 "nbformat": 4,
 "nbformat_minor": 5
}
