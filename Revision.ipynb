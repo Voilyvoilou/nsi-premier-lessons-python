{
 "cells": [
  {
   "cell_type": "markdown",
   "metadata": {},
   "source": [
    "### Notion de bases "
   ]
  },
  {
   "cell_type": "markdown",
   "metadata": {},
   "source": [
    "1. Ecrire un programe qui : \n",
    "- demande son nom à l'utilisateur. \n",
    "- le salut par son nom. \n",
    "\n",
    "Quel est ton nom ? : Toto\n",
    "Bonjour, Toto  "
   ]
  },
  {
   "cell_type": "code",
   "execution_count": 2,
   "metadata": {},
   "outputs": [
    {
     "name": "stdout",
     "output_type": "stream",
     "text": [
      "Bonjours, Toto\n"
     ]
    }
   ],
   "source": [
    "nom = input(\"Quel est ton nom ?\")\n",
    "# demande le nom + attribue la réponse a nom\n",
    "print (\"Bonjours, \" + nom)\n",
    "# écrit Bonjours + la reponse rantré precédament "
   ]
  },
  {
   "cell_type": "markdown",
   "metadata": {},
   "source": [
    "2. Ecrire une fonction \n",
    "repete-mot(mot, n)\n",
    "qui affiche le mot entre paramètre, n fois de suit."
   ]
  },
  {
   "cell_type": "code",
   "execution_count": 8,
   "metadata": {},
   "outputs": [
    {
     "name": "stdout",
     "output_type": "stream",
     "text": [
      "banane\n",
      "banane\n",
      "banane\n",
      "banane\n",
      "banane\n"
     ]
    }
   ],
   "source": [
    "def repete_mot (mot, n): # Attantion c'est une variable donc si on veut voire ce qu'elle fait il faut l'appeller \n",
    "# crée un variable : repete mot. Qui prend un mot choisi et le repete un nombre de fois choisi\n",
    "    for loop in range (n):\n",
    "    # crée une boucle (loop = variable qui existe seulment dans la boucle). \n",
    "    # range intervale entre 1 et le nombre choisi \n",
    "        print (mot)\n",
    "        # arriche dans la console le mots choisi un nombre de fois choisi aussi \n",
    "\n",
    "repete_mot (\"banane\", 5)\n",
    "# appel la fonction \n",
    "# définie le mot choisi. La c'est banane. Attantion metrre entre \"\" car c'est une chaine de caractère. \n",
    "# définie le nombre de fois que l'on va repteté banane. La c'est 5. "
   ]
  },
  {
   "cell_type": "markdown",
   "metadata": {},
   "source": [
    "3. Ecrire un fonction \n",
    "maximum (x, y, z)\n",
    "qui rçoit 3 entier et renvoie le plus grand. "
   ]
  },
  {
   "cell_type": "code",
   "execution_count": 10,
   "metadata": {},
   "outputs": [
    {
     "data": {
      "text/plain": [
       "9"
      ]
     },
     "execution_count": 10,
     "metadata": {},
     "output_type": "execute_result"
    }
   ],
   "source": [
    "def maximum (x, y, z): \n",
    "# definie la variable maximum.\n",
    "    if x >= y and x >= z:\n",
    "    # crée une boucle avec pour condition x sup ou égale à y et x sup ou égale à z. Si c'est vrai alors rentre dans les boucle.   \n",
    "        return x\n",
    "        # renvoie la valeurs de x  \n",
    "    elif y >= x and y >= z: \n",
    "    # crée une boucle alternative si if est faux, qui à pour condition y sup ou égal à x et y sup ou égal z. Si c'est vrai alors rentre dans les boucle.\n",
    "        return y \n",
    "        # renvoie la valeurs de y \n",
    "    else : \n",
    "    # crée un condition de sortie obligatoir si les deux autres boucle son fauses. \n",
    "        return z\n",
    "        # renvoie la valeurs de z\n",
    "\n",
    "maximum (4, 2, 9)\n",
    "# appel la fonction : maximum, défini par les entier choisi : 4, 2, 9. "
   ]
  },
  {
   "cell_type": "markdown",
   "metadata": {},
   "source": [
    "4. Ecrire une fonction \n",
    "moyenne (tableau)\n",
    "qui reçoit un tableau (liste) d'entiers et renvoie la moyennee. "
   ]
  },
  {
   "cell_type": "code",
   "execution_count": 12,
   "metadata": {},
   "outputs": [
    {
     "data": {
      "text/plain": [
       "13.25"
      ]
     },
     "execution_count": 12,
     "metadata": {},
     "output_type": "execute_result"
    }
   ],
   "source": [
    "def moyenne (tableau): \n",
    "# crée une variable : moyenne. Définie par un tableau de valeurs.\n",
    "    total = 0\n",
    "    # total prend la valeur 0\n",
    "    for i in range (len(tableau)): \n",
    "    # crée un boucle qui se tremine lorsque i attien la taille du tableau(0 --> n)\n",
    "    # range définie un intervale entre 0 et la taille du tableau (=\"(len(tableau))\")\n",
    "        total = tableau[i] + total\n",
    "        # total prend la valeur : de la position de i dan le tableau + le total. On fait ca pour toute les valeurs du tableau (dans l'ordre car c'est un \"range\")\n",
    "    moyenne = total / len(tableau)\n",
    "    # moyenne prend la valeur : du total diviser par le nombre de valeur qu'il y a dans le tableau\n",
    "    return moyenne\n",
    "    # renvoie moyenne \n",
    "\n",
    "moyenne ([20, 15, 11, 7])\n",
    "# appel la fonction : moyenne. Qui est définie par un tableau choisi.\n",
    "# PS : pour crée un tableau on met plusieur valeurs entre crocher []"
   ]
  },
  {
   "cell_type": "markdown",
   "metadata": {},
   "source": [
    "5. Ecrire un fonction \n",
    "doublon (tableau)\n",
    "qui reçoit un tableau et renvoie les élèments y figurant plusieurs fois, réunis dans un tableau. "
   ]
  },
  {
   "cell_type": "code",
   "execution_count": 3,
   "metadata": {},
   "outputs": [
    {
     "name": "stdout",
     "output_type": "stream",
     "text": [
      "-> Doublon= 2\n",
      "-> Doublon= 8\n",
      "-> Doublon= 4\n"
     ]
    },
    {
     "data": {
      "text/plain": [
       "[2, 8, 4]"
      ]
     },
     "execution_count": 3,
     "metadata": {},
     "output_type": "execute_result"
    }
   ],
   "source": [
    "def doublon (tableau):\n",
    "\n",
    "    test = []\n",
    "\n",
    "    size = len(tableau)\n",
    "    \n",
    "    for i in range(size - 1):\n",
    "        \n",
    "        for y in range(i + 1, size):\n",
    "            \n",
    "            if tableau[i] == tableau[y]:\n",
    "                print(f\"-> Doublon= {tableau[y]}\")\n",
    "                test.append(tableau[y])\n",
    "\n",
    "    return test \n",
    "\n",
    "doublon ([2, 6, 8, 2, 99, 16, 4, 75, 8, 5, 0, 4])"
   ]
  }
 ],
 "metadata": {
  "kernelspec": {
   "display_name": "Python 3.10.8 64-bit (microsoft store)",
   "language": "python",
   "name": "python3"
  },
  "language_info": {
   "codemirror_mode": {
    "name": "ipython",
    "version": 3
   },
   "file_extension": ".py",
   "mimetype": "text/x-python",
   "name": "python",
   "nbconvert_exporter": "python",
   "pygments_lexer": "ipython3",
   "version": "3.10.8"
  },
  "orig_nbformat": 4,
  "vscode": {
   "interpreter": {
    "hash": "b4292b0fc3a0463dec44265d25a5731013a203be428d6592f0a04c2fe8eb0daa"
   }
  }
 },
 "nbformat": 4,
 "nbformat_minor": 2
}
