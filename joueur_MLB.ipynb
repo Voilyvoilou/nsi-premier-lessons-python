{
 "cells": [
  {
   "cell_type": "markdown",
   "metadata": {},
   "source": [
    "# Évaluation  \n",
    "\n",
    "Les descripteurs du fichier joueurs_MLB.csv sont :\n",
    "```\n",
    "Name,Team,Position,Height(inches),Weight(lbs),Age\n",
    "```"
   ]
  },
  {
   "cell_type": "markdown",
   "metadata": {},
   "source": [
    "## Consignes"
   ]
  },
  {
   "cell_type": "markdown",
   "metadata": {},
   "source": [
    "### extraire_données(chemin)\n",
    "\n",
    "__Paramètres entrées__\n",
    "\n",
    "    chemin =  le chemin du fichier csv\n",
    "\n",
    "__Exécution__\n",
    "\n",
    "    lit les données du fichier et les structure sous forme d'une liste de p-uplets nommés (dictionnaires)\n",
    "\n",
    "__Valeur de Retour__\n",
    "\n",
    "    la liste ainsi construite"
   ]
  },
  {
   "cell_type": "code",
   "execution_count": 10,
   "metadata": {},
   "outputs": [],
   "source": [
    "def extraire_donnees(chemin):\n",
    "    \"\"\"\n",
    "    renvoie les données du csv comme une liste de p-uplets nommés (un par élève)\n",
    "    \"\"\"\n",
    "    # ouvrir un fichier en mode lecture (\"r\" pour write)\n",
    "    # open renvoie un objet_fichier\n",
    "    data = open(chemin, \"r\")\n",
    "\n",
    "    joueurs = [] # on crée la liste qui sera remplie et renvoyée\n",
    "\n",
    "    # Pour lire dans le fichier, la première manière consiste à lire une ligne avec readline()\n",
    "    entete = data.readline() # la première ligne contient les decripteurs du csv\n",
    "    #print(entete)\n",
    "\n",
    "    # la première ligne ayant déjà été 'consommée' précédemment.\n",
    "    for ligne in data:\n",
    "        # pré-traitement : la ligne concernant le joueur est 'nettoyée' avec strip(),\n",
    "        # puis avec split() découpée en morceaux qui sont stockés dans une liste.\n",
    "        champs_joueur = ligne.strip().split(',')\n",
    "\n",
    "        # On renseigne un p-uplet nommé pour chaque joueur\n",
    "        # Name,Team,Position,Height(inches),Weight(lbs),Age\n",
    "        tuple_joueur = {'Name'      : champs_joueur[0],\\\n",
    "                      'Team'        : champs_joueur[1],\\\n",
    "                      'Position'    : champs_joueur[2],\\\n",
    "                      'Height'      : champs_joueur[3],\\\n",
    "                      'Weight'      : champs_joueur[4],\\\n",
    "                      'Age'         : champs_joueur[5],}\n",
    "        joueurs.append(tuple_joueur) # ce p-uplet est ajouté à la liste\n",
    "\n",
    "    data.close() # Ne pas oublier de fermer le fichier une fois la lecture achevée\n",
    "    return joueurs # Le Tableau construit est renvoyé."
   ]
  },
  {
   "cell_type": "markdown",
   "metadata": {},
   "source": [
    "### Test la premier ligne"
   ]
  },
  {
   "cell_type": "code",
   "execution_count": 24,
   "metadata": {},
   "outputs": [
    {
     "data": {
      "text/plain": [
       "{'Name': 'A.J. Burnett',\n",
       " 'Team': 'TOR',\n",
       " 'Position': 'Starting Pitcher',\n",
       " 'Height': '76',\n",
       " 'Weight': '230',\n",
       " 'Age': '30.15'}"
      ]
     },
     "execution_count": 24,
     "metadata": {},
     "output_type": "execute_result"
    }
   ],
   "source": [
    "joueurs = extraire_donnees(\"./joueurs_MLB.csv\")\n",
    "\n",
    "joueurs[0]"
   ]
  },
  {
   "cell_type": "markdown",
   "metadata": {},
   "source": [
    "### position_joueur(donnees, nom_joueur)\n",
    "\n",
    "__paramètres d'entrées__\n",
    "\n",
    "    donnees = une liste telle que celle renvoyée par la fonction extraire_données\n",
    "    nom_joueur = le nom d'un joueur\n",
    "\n",
    "__exécution__\n",
    "\n",
    "    recherche le joueur dans la liste, par dichotomie\n",
    "\n",
    "__Valeur de Retour__\n",
    "\n",
    "    la position de ce joueur (Catcher, Outfielder, Shortstop...) sur le terrain"
   ]
  },
  {
   "cell_type": "code",
   "execution_count": 18,
   "metadata": {},
   "outputs": [],
   "source": [
    "def position_joueur(donnees, nom_joueur):\n",
    "    \"\"\"\n",
    "    recherche le joueur dans la liste, par dichotomie\n",
    "    \"\"\"\n",
    "    gauche = 0\n",
    "    droite = len(donnees) - 1\n",
    "    \n",
    "    # print(f\"Find = {val} ?\")\n",
    "    while gauche <= droite:\n",
    "        \n",
    "\n",
    "        milieu = (gauche + droite) // 2\n",
    "        \n",
    "        #print(f\"-> {donnees[gauche]['Name']} < {donnees[milieu]['Name']} < {donnees[droite]['Name']}\")\n",
    "\n",
    "        midpays = donnees[milieu]['Name']\n",
    "        \n",
    "        if midpays > nom_joueur:\n",
    "            # on cherche entre gauche et milieu - 1\n",
    "            droite = milieu - 1\n",
    "        elif midpays < nom_joueur:\n",
    "            # on a tab[milieu] < val\n",
    "            # on cherche entre milieu + 1 et droite\n",
    "            gauche = milieu + 1\n",
    "        else: \n",
    "            # on a trouvé le pays donc le nom ,\n",
    "            # à la position milieu\n",
    "            return donnees[milieu]['Position']\n",
    "\n",
    "    # on est sorti de la boucle sans trouver val\n",
    "    return \"N/A\""
   ]
  },
  {
   "cell_type": "markdown",
   "metadata": {},
   "source": [
    "## Test la recherche dicotomique"
   ]
  },
  {
   "cell_type": "code",
   "execution_count": 26,
   "metadata": {},
   "outputs": [],
   "source": [
    "test = [ \"Chris Duffy\", \"Jeff Keppinger\", \"Sean Tracey\", 'Andres Blanco', \"John Koronka\", 'A.J. Burnett'] "
   ]
  },
  {
   "cell_type": "code",
   "execution_count": 27,
   "metadata": {},
   "outputs": [
    {
     "name": "stdout",
     "output_type": "stream",
     "text": [
      "Joueurs: ['Chris Duffy', 'Jeff Keppinger', 'Sean Tracey', 'Andres Blanco', 'John Koronka', 'A.J. Burnett']\n",
      "Positions: ['Outfielder', 'Third Baseman', 'Relief Pitcher', 'Shortstop', 'Starting Pitcher', 'Starting Pitcher']\n"
     ]
    }
   ],
   "source": [
    "res = []\n",
    "\n",
    "for s in test:\n",
    "\n",
    "    res.append(position_joueur(joueurs,s))\n",
    "\n",
    "print(f\"Joueurs: {test}\")\n",
    "print(f\"Positions: {res}\")\n"
   ]
  },
  {
   "cell_type": "code",
   "execution_count": null,
   "metadata": {},
   "outputs": [],
   "source": []
  }
 ],
 "metadata": {
  "kernelspec": {
   "display_name": "Python 3.10.8 64-bit (microsoft store)",
   "language": "python",
   "name": "python3"
  },
  "language_info": {
   "codemirror_mode": {
    "name": "ipython",
    "version": 3
   },
   "file_extension": ".py",
   "mimetype": "text/x-python",
   "name": "python",
   "nbconvert_exporter": "python",
   "pygments_lexer": "ipython3",
   "version": "3.10.8"
  },
  "orig_nbformat": 4,
  "vscode": {
   "interpreter": {
    "hash": "b4292b0fc3a0463dec44265d25a5731013a203be428d6592f0a04c2fe8eb0daa"
   }
  }
 },
 "nbformat": 4,
 "nbformat_minor": 2
}
